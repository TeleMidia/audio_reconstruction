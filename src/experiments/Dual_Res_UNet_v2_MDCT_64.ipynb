{
 "cells": [
  {
   "cell_type": "markdown",
   "metadata": {},
   "source": [
    "### Dependences"
   ]
  },
  {
   "cell_type": "code",
   "execution_count": 1,
   "metadata": {
    "scrolled": true
   },
   "outputs": [],
   "source": [
    "import sys\n",
    "sys.path.append(\"../\")\n",
    "\n",
    "import math\n",
    "from tqdm import tqdm\n",
    "import numpy as np\n",
    "import tensorflow as tf\n",
    "\n",
    "from PIL import Image\n",
    "from tqdm import tqdm\n",
    "import soundfile as sf\n",
    "import json\n",
    "import os\n",
    "\n",
    "import matplotlib.pyplot as plt\n",
    "from IPython.display import clear_output\n",
    "\n",
    "from lib.models.Dual_Res_UNet_v2 import Dual_Res_UNet_v2\n",
    "import lib.utils as utils\n",
    "\n",
    "import IPython.display as ipd\n",
    "\n",
    "TESLA_K40c = '/gpu:1'\n",
    "GTX_1080 = '/gpu:0'\n",
    "\n",
    "GPU = TESLA_K40c"
   ]
  },
  {
   "cell_type": "markdown",
   "metadata": {},
   "source": [
    "### Loading experiment data"
   ]
  },
  {
   "cell_type": "code",
   "execution_count": 2,
   "metadata": {
    "scrolled": true
   },
   "outputs": [],
   "source": [
    "#set experiment ID\n",
    "with tf.device(GPU):\n",
    "    EXP_ID = \"Dual_Res_UNet_v2_MDCT_64\"\n",
    "    utils.create_experiment_folders(EXP_ID)\n",
    "    utils.load_experiment_data()\n"
   ]
  },
  {
   "cell_type": "markdown",
   "metadata": {},
   "source": [
    "### Model instantiation"
   ]
  },
  {
   "cell_type": "code",
   "execution_count": 3,
   "metadata": {
    "scrolled": true
   },
   "outputs": [
    {
     "name": "stdout",
     "output_type": "stream",
     "text": [
      "Model: \"dual__res_u_net_v2\"\n",
      "_________________________________________________________________\n",
      "Layer (type)                 Output Shape              Param #   \n",
      "=================================================================\n",
      "sequential (Sequential)      (None, 64, 64, 32)        448       \n",
      "_________________________________________________________________\n",
      "sequential_1 (Sequential)    (None, 32, 32, 32)        9376      \n",
      "_________________________________________________________________\n",
      "sequential_2 (Sequential)    (None, 32, 32, 64)        18752     \n",
      "_________________________________________________________________\n",
      "sequential_3 (Sequential)    (None, 16, 16, 64)        37184     \n",
      "_________________________________________________________________\n",
      "sequential_4 (Sequential)    (None, 16, 16, 128)       74368     \n",
      "_________________________________________________________________\n",
      "sequential_5 (Sequential)    (None, 8, 8, 128)         148096    \n",
      "_________________________________________________________________\n",
      "sequential_6 (Sequential)    (None, 8, 8, 256)         296192    \n",
      "_________________________________________________________________\n",
      "sequential_7 (Sequential)    (None, 4, 4, 256)         591104    \n",
      "_________________________________________________________________\n",
      "sequential_8 (Sequential)    (None, 4, 4, 512)         1182208   \n",
      "_________________________________________________________________\n",
      "sequential_9 (Sequential)    (None, 2, 2, 512)         2361856   \n",
      "_________________________________________________________________\n",
      "sequential_10 (Sequential)   (None, 2, 2, 1024)        4723712   \n",
      "_________________________________________________________________\n",
      "conv2d_transpose (Conv2DTran multiple                  4719104   \n",
      "_________________________________________________________________\n",
      "sequential_11 (Sequential)   (None, 4, 4, 512)         4721152   \n",
      "_________________________________________________________________\n",
      "conv2d_transpose_1 (Conv2DTr multiple                  1179904   \n",
      "_________________________________________________________________\n",
      "sequential_12 (Sequential)   (None, 8, 8, 256)         1180928   \n",
      "_________________________________________________________________\n",
      "conv2d_transpose_2 (Conv2DTr multiple                  295040    \n",
      "_________________________________________________________________\n",
      "sequential_13 (Sequential)   (None, 16, 16, 128)       295552    \n",
      "_________________________________________________________________\n",
      "conv2d_transpose_3 (Conv2DTr multiple                  73792     \n",
      "_________________________________________________________________\n",
      "sequential_14 (Sequential)   (None, 32, 32, 64)        74048     \n",
      "_________________________________________________________________\n",
      "conv2d_transpose_4 (Conv2DTr multiple                  18464     \n",
      "_________________________________________________________________\n",
      "sequential_15 (Sequential)   (None, 64, 64, 32)        18592     \n",
      "_________________________________________________________________\n",
      "conv2d_16 (Conv2D)           multiple                  289       \n",
      "_________________________________________________________________\n",
      "sequential_16 (Sequential)   (None, 64, 64, 32)        448       \n",
      "_________________________________________________________________\n",
      "sequential_17 (Sequential)   (None, 32, 32, 32)        9376      \n",
      "_________________________________________________________________\n",
      "sequential_18 (Sequential)   (None, 32, 32, 64)        18752     \n",
      "_________________________________________________________________\n",
      "sequential_19 (Sequential)   (None, 16, 16, 64)        37184     \n",
      "_________________________________________________________________\n",
      "sequential_20 (Sequential)   (None, 16, 16, 128)       74368     \n",
      "_________________________________________________________________\n",
      "sequential_21 (Sequential)   (None, 8, 8, 128)         148096    \n",
      "_________________________________________________________________\n",
      "sequential_22 (Sequential)   (None, 8, 8, 256)         296192    \n",
      "_________________________________________________________________\n",
      "sequential_23 (Sequential)   (None, 4, 4, 256)         591104    \n",
      "_________________________________________________________________\n",
      "sequential_24 (Sequential)   (None, 4, 4, 512)         1182208   \n",
      "_________________________________________________________________\n",
      "sequential_25 (Sequential)   (None, 2, 2, 512)         2361856   \n",
      "_________________________________________________________________\n",
      "sequential_26 (Sequential)   (None, 2, 2, 1024)        4723712   \n",
      "_________________________________________________________________\n",
      "conv2d_transpose_5 (Conv2DTr multiple                  4719104   \n",
      "_________________________________________________________________\n",
      "sequential_27 (Sequential)   (None, 4, 4, 512)         4721152   \n",
      "_________________________________________________________________\n",
      "conv2d_transpose_6 (Conv2DTr multiple                  1179904   \n",
      "_________________________________________________________________\n",
      "sequential_28 (Sequential)   (None, 8, 8, 256)         1180928   \n",
      "_________________________________________________________________\n",
      "conv2d_transpose_7 (Conv2DTr multiple                  295040    \n",
      "_________________________________________________________________\n",
      "sequential_29 (Sequential)   (None, 16, 16, 128)       295552    \n",
      "_________________________________________________________________\n",
      "conv2d_transpose_8 (Conv2DTr multiple                  73792     \n",
      "_________________________________________________________________\n",
      "sequential_30 (Sequential)   (None, 32, 32, 64)        74048     \n",
      "_________________________________________________________________\n",
      "conv2d_transpose_9 (Conv2DTr multiple                  18464     \n",
      "_________________________________________________________________\n",
      "sequential_31 (Sequential)   (None, 64, 64, 32)        18592     \n",
      "_________________________________________________________________\n",
      "conv2d_33 (Conv2D)           multiple                  289       \n",
      "=================================================================\n",
      "Total params: 44,040,322\n",
      "Trainable params: 44,024,322\n",
      "Non-trainable params: 16,000\n",
      "_________________________________________________________________\n",
      "None\n"
     ]
    }
   ],
   "source": [
    "with tf.device(GPU):\n",
    "    model = Dual_Res_UNet_v2()\n",
    "    model.build((None,64,64,1))\n",
    "    print(model.summary())"
   ]
  },
  {
   "cell_type": "code",
   "execution_count": 4,
   "metadata": {},
   "outputs": [
    {
     "data": {
      "text/plain": [
       "<tensorflow.python.training.tracking.util.CheckpointLoadStatus at 0x7f179c64a780>"
      ]
     },
     "execution_count": 4,
     "metadata": {},
     "output_type": "execute_result"
    }
   ],
   "source": [
    "model.load_weights(\"model_save/Res_UNet_v2_MDCT_64_10_50/model_best_valid/model\")"
   ]
  },
  {
   "cell_type": "code",
   "execution_count": 5,
   "metadata": {},
   "outputs": [],
   "source": [
    "for i in range(16):\n",
    "    model.layers[i].trainable = False"
   ]
  },
  {
   "cell_type": "code",
   "execution_count": 6,
   "metadata": {},
   "outputs": [
    {
     "name": "stdout",
     "output_type": "stream",
     "text": [
      "Model: \"dual__res_u_net_v2\"\n",
      "_________________________________________________________________\n",
      "Layer (type)                 Output Shape              Param #   \n",
      "=================================================================\n",
      "sequential (Sequential)      (None, 64, 64, 32)        448       \n",
      "_________________________________________________________________\n",
      "sequential_1 (Sequential)    (None, 32, 32, 32)        9376      \n",
      "_________________________________________________________________\n",
      "sequential_2 (Sequential)    (None, 32, 32, 64)        18752     \n",
      "_________________________________________________________________\n",
      "sequential_3 (Sequential)    (None, 16, 16, 64)        37184     \n",
      "_________________________________________________________________\n",
      "sequential_4 (Sequential)    (None, 16, 16, 128)       74368     \n",
      "_________________________________________________________________\n",
      "sequential_5 (Sequential)    (None, 8, 8, 128)         148096    \n",
      "_________________________________________________________________\n",
      "sequential_6 (Sequential)    (None, 8, 8, 256)         296192    \n",
      "_________________________________________________________________\n",
      "sequential_7 (Sequential)    (None, 4, 4, 256)         591104    \n",
      "_________________________________________________________________\n",
      "sequential_8 (Sequential)    (None, 4, 4, 512)         1182208   \n",
      "_________________________________________________________________\n",
      "sequential_9 (Sequential)    (None, 2, 2, 512)         2361856   \n",
      "_________________________________________________________________\n",
      "sequential_10 (Sequential)   (None, 2, 2, 1024)        4723712   \n",
      "_________________________________________________________________\n",
      "conv2d_transpose (Conv2DTran multiple                  4719104   \n",
      "_________________________________________________________________\n",
      "sequential_11 (Sequential)   (None, 4, 4, 512)         4721152   \n",
      "_________________________________________________________________\n",
      "conv2d_transpose_1 (Conv2DTr multiple                  1179904   \n",
      "_________________________________________________________________\n",
      "sequential_12 (Sequential)   (None, 8, 8, 256)         1180928   \n",
      "_________________________________________________________________\n",
      "conv2d_transpose_2 (Conv2DTr multiple                  295040    \n",
      "_________________________________________________________________\n",
      "sequential_13 (Sequential)   (None, 16, 16, 128)       295552    \n",
      "_________________________________________________________________\n",
      "conv2d_transpose_3 (Conv2DTr multiple                  73792     \n",
      "_________________________________________________________________\n",
      "sequential_14 (Sequential)   (None, 32, 32, 64)        74048     \n",
      "_________________________________________________________________\n",
      "conv2d_transpose_4 (Conv2DTr multiple                  18464     \n",
      "_________________________________________________________________\n",
      "sequential_15 (Sequential)   (None, 64, 64, 32)        18592     \n",
      "_________________________________________________________________\n",
      "conv2d_16 (Conv2D)           multiple                  289       \n",
      "_________________________________________________________________\n",
      "sequential_16 (Sequential)   (None, 64, 64, 32)        448       \n",
      "_________________________________________________________________\n",
      "sequential_17 (Sequential)   (None, 32, 32, 32)        9376      \n",
      "_________________________________________________________________\n",
      "sequential_18 (Sequential)   (None, 32, 32, 64)        18752     \n",
      "_________________________________________________________________\n",
      "sequential_19 (Sequential)   (None, 16, 16, 64)        37184     \n",
      "_________________________________________________________________\n",
      "sequential_20 (Sequential)   (None, 16, 16, 128)       74368     \n",
      "_________________________________________________________________\n",
      "sequential_21 (Sequential)   (None, 8, 8, 128)         148096    \n",
      "_________________________________________________________________\n",
      "sequential_22 (Sequential)   (None, 8, 8, 256)         296192    \n",
      "_________________________________________________________________\n",
      "sequential_23 (Sequential)   (None, 4, 4, 256)         591104    \n",
      "_________________________________________________________________\n",
      "sequential_24 (Sequential)   (None, 4, 4, 512)         1182208   \n",
      "_________________________________________________________________\n",
      "sequential_25 (Sequential)   (None, 2, 2, 512)         2361856   \n",
      "_________________________________________________________________\n",
      "sequential_26 (Sequential)   (None, 2, 2, 1024)        4723712   \n",
      "_________________________________________________________________\n",
      "conv2d_transpose_5 (Conv2DTr multiple                  4719104   \n",
      "_________________________________________________________________\n",
      "sequential_27 (Sequential)   (None, 4, 4, 512)         4721152   \n",
      "_________________________________________________________________\n",
      "conv2d_transpose_6 (Conv2DTr multiple                  1179904   \n",
      "_________________________________________________________________\n",
      "sequential_28 (Sequential)   (None, 8, 8, 256)         1180928   \n",
      "_________________________________________________________________\n",
      "conv2d_transpose_7 (Conv2DTr multiple                  295040    \n",
      "_________________________________________________________________\n",
      "sequential_29 (Sequential)   (None, 16, 16, 128)       295552    \n",
      "_________________________________________________________________\n",
      "conv2d_transpose_8 (Conv2DTr multiple                  73792     \n",
      "_________________________________________________________________\n",
      "sequential_30 (Sequential)   (None, 32, 32, 64)        74048     \n",
      "_________________________________________________________________\n",
      "conv2d_transpose_9 (Conv2DTr multiple                  18464     \n",
      "_________________________________________________________________\n",
      "sequential_31 (Sequential)   (None, 64, 64, 32)        18592     \n",
      "_________________________________________________________________\n",
      "conv2d_33 (Conv2D)           multiple                  289       \n",
      "=================================================================\n",
      "Total params: 44,040,322\n",
      "Trainable params: 22,492,450\n",
      "Non-trainable params: 21,547,872\n",
      "_________________________________________________________________\n",
      "None\n"
     ]
    }
   ],
   "source": [
    "print(model.summary())"
   ]
  },
  {
   "cell_type": "markdown",
   "metadata": {},
   "source": [
    "### Loading Dataset"
   ]
  },
  {
   "cell_type": "code",
   "execution_count": 7,
   "metadata": {
    "scrolled": false
   },
   "outputs": [
    {
     "name": "stdout",
     "output_type": "stream",
     "text": [
      "Loaded (748449, 64, 64, 1) samples\n"
     ]
    }
   ],
   "source": [
    "train_x = np.load(\"/mnt/backup/arthur/Free_Music_Archive/Spectrogramas/X_train_MDCT.npy\", mmap_mode='c') \n",
    "train_y = np.load(\"/mnt/backup/arthur/Free_Music_Archive/Spectrogramas/y_train_MDCT.npy\", mmap_mode='c') \n",
    "\n",
    "qtd_traning = train_x.shape\n",
    "print(\"Loaded\",qtd_traning, \"samples\")"
   ]
  },
  {
   "cell_type": "code",
   "execution_count": 8,
   "metadata": {
    "scrolled": true
   },
   "outputs": [
    {
     "name": "stdout",
     "output_type": "stream",
     "text": [
      "Loaded (187200, 64, 64, 1) samples\n"
     ]
    }
   ],
   "source": [
    "valid_x_1 = np.load(\"/mnt/backup/arthur/Free_Music_Archive/Spectrogramas/X_val_MDCT.npy\", mmap_mode='c') \n",
    "valid_y_1 = np.load(\"/mnt/backup/arthur/Free_Music_Archive/Spectrogramas/y_val_MDCT.npy\", mmap_mode='c')\n",
    "\n",
    "qtd_traning = valid_x_1.shape\n",
    "print(\"Loaded\",qtd_traning, \"samples\")"
   ]
  },
  {
   "cell_type": "markdown",
   "metadata": {},
   "source": [
    "### Dataset Normalization and Batches split"
   ]
  },
  {
   "cell_type": "code",
   "execution_count": 9,
   "metadata": {},
   "outputs": [
    {
     "name": "stdout",
     "output_type": "stream",
     "text": [
      "[ 94.24274445  94.81850433 189.28251648 189.8829422 ]\n",
      "train_batches: 6397 valid_batches: 1600\n"
     ]
    }
   ],
   "source": [
    "value = np.load(\"/mnt/backup/arthur/Free_Music_Archive/Spectrogramas/scale_and_shift_MDCT_64.npy\", mmap_mode='c') \n",
    "print(value)\n",
    "SHIFT_VALUE_X, SHIFT_VALUE_Y, SCALE_VALUE_X, SCALE_VALUE_Y = value[0], value[1], value[2], value[3]\n",
    "# SHIFT_VALUE_X, SHIFT_VALUE_Y, SCALE_VALUE_X, SCALE_VALUE_Y = utils.get_shift_scale_maxmin(train_x, train_y, valid_x_1, valid_y_1)\n",
    "\n",
    "mini_batch_size = 117\n",
    "num_train_minibatches = math.floor(train_x.shape[0]/mini_batch_size)\n",
    "num_val_minibatches = math.floor(valid_x_1.shape[0]/mini_batch_size)\n",
    "\n",
    "print(\"train_batches:\", num_train_minibatches, \"valid_batches:\", num_val_minibatches)"
   ]
  },
  {
   "cell_type": "markdown",
   "metadata": {},
   "source": [
    "### Metrics"
   ]
  },
  {
   "cell_type": "code",
   "execution_count": 10,
   "metadata": {},
   "outputs": [],
   "source": [
    "with tf.device(GPU):\n",
    "    #default tf.keras metrics\n",
    "    train_loss = tf.keras.metrics.Mean(name='train_loss')"
   ]
  },
  {
   "cell_type": "markdown",
   "metadata": {},
   "source": [
    "### Set Loss and load model weights"
   ]
  },
  {
   "cell_type": "code",
   "execution_count": 11,
   "metadata": {},
   "outputs": [],
   "source": [
    "with tf.device(GPU):\n",
    "    loss_object_recons = tf.keras.losses.MeanSquaredError()\n",
    "    loss_object_refine = tf.keras.losses.MeanSquaredError()\n",
    "    optimizer = tf.keras.optimizers.Adam(learning_rate=0.001)\n",
    "\n",
    "    #get last saved epoch index and best result in validation step\n",
    "    CURRENT_EPOCH, BEST_VALIDATION = utils.get_model_last_data()\n",
    "    if CURRENT_EPOCH > 0:\n",
    "        print(\"Loading last model state in epoch\", CURRENT_EPOCH)\n",
    "        model.load_weights(utils.get_exp_folder_last_epoch())\n",
    "        print(\"Best validation result was PSNR=\", BEST_VALIDATION)"
   ]
  },
  {
   "cell_type": "markdown",
   "metadata": {},
   "source": [
    "### Training"
   ]
  },
  {
   "cell_type": "code",
   "execution_count": null,
   "metadata": {
    "scrolled": true
   },
   "outputs": [
    {
     "name": "stdout",
     "output_type": "stream",
     "text": [
      "VALIDATION EPOCH 1\n"
     ]
    },
    {
     "name": "stderr",
     "output_type": "stream",
     "text": [
      "\r",
      "  0%|          | 0/1600 [00:00<?, ?it/s]"
     ]
    },
    {
     "name": "stdout",
     "output_type": "stream",
     "text": [
      "Validation set\n"
     ]
    },
    {
     "name": "stderr",
     "output_type": "stream",
     "text": [
      "100%|██████████| 1600/1600 [10:13<00:00,  2.61it/s]\n"
     ]
    },
    {
     "data": {
      "image/png": "[encoded data removed]",
      "text/plain": [
       "<Figure size 1080x1080 with 3 Axes>"
      ]
     },
     "metadata": {
      "needs_background": "light"
     },
     "output_type": "display_data"
    },
    {
     "name": "stderr",
     "output_type": "stream",
     "text": [
      "\r",
      "  0%|          | 0/6397 [00:00<?, ?it/s]"
     ]
    },
    {
     "name": "stdout",
     "output_type": "stream",
     "text": [
      "TRAINING EPOCH 2\n"
     ]
    },
    {
     "name": "stderr",
     "output_type": "stream",
     "text": [
      " 18%|█▊        | 1171/6397 [12:48<57:13,  1.52it/s] "
     ]
    }
   ],
   "source": [
    "with tf.device(GPU):\n",
    "    @tf.function\n",
    "    def train_step(patch_x, patch_y):\n",
    "        with tf.GradientTape() as tape:\n",
    "            pred_reconst, pred_refine = model(patch_x)[0], model(patch_x)[1]\n",
    "#             reconstruction_loss = loss_object_recons(patch_y, pred_reconst)\n",
    "            refinement_loss = loss_object_refine(patch_y, pred_refine)\n",
    "#             loss = reconstruction_loss + refinement_loss\n",
    "            loss = refinement_loss\n",
    "\n",
    "        gradients = tape.gradient(loss, model.trainable_variables)\n",
    "        optimizer.apply_gradients(zip(gradients, model.trainable_variables))\n",
    "        train_loss(loss)\n",
    "\n",
    "    def valid_step(valid_x, valid_y, num_val_minibatches, mini_batch_size):\n",
    "        valid_mse = tf.keras.metrics.MeanSquaredError(name='train_mse')\n",
    "        valid_custom_metrics = utils.CustomMetric()\n",
    "        for i in tqdm(range(num_val_minibatches)):\n",
    "            data_x = valid_x[i * mini_batch_size : i * mini_batch_size + mini_batch_size]\n",
    "            data_y = valid_y[i * mini_batch_size : i * mini_batch_size + mini_batch_size]\n",
    "\n",
    "            data_x = tf.convert_to_tensor(data_x, dtype=tf.float32)\n",
    "            data_y = tf.convert_to_tensor(data_y, dtype=tf.float32)\n",
    "\n",
    "            data_x = ((data_x+SHIFT_VALUE_X)/SCALE_VALUE_X)+CONST_GAMA\n",
    "            data_y = ((data_y+SHIFT_VALUE_Y)/SCALE_VALUE_Y)+CONST_GAMA\n",
    "\n",
    "            predictions = model(data_x)[1]\n",
    "            valid_mse(data_y, predictions)\n",
    "\n",
    "            predictions = predictions.numpy()\n",
    "            data_y = data_y.numpy()\n",
    "\n",
    "            #feed the metric evaluator\n",
    "            valid_custom_metrics.feed(data_y, predictions)\n",
    "\n",
    "        #get metric results\n",
    "        psnr, nrmse = valid_custom_metrics.result()\n",
    "        valid_mse_result = valid_mse.result().numpy()\n",
    "        valid_custom_metrics.reset_states()\n",
    "        valid_mse.reset_states()\n",
    "        return psnr, nrmse, valid_mse_result\n",
    "\n",
    "    MAX_EPOCHS = 100\n",
    "    EVAL_STEP = 1\n",
    "    CONST_GAMA = 0.001\n",
    "\n",
    "\n",
    "    for epoch in range(CURRENT_EPOCH, MAX_EPOCHS):\n",
    "\n",
    "        #TRAINING\n",
    "        print(\"TRAINING EPOCH\", epoch)\n",
    "\n",
    "        for k in tqdm(range(0, num_train_minibatches)):\n",
    "            seismic_x = train_x[k * mini_batch_size : k * mini_batch_size + mini_batch_size]\n",
    "            seismic_y = train_y[k * mini_batch_size : k * mini_batch_size + mini_batch_size]\n",
    "\n",
    "            seismic_x = tf.convert_to_tensor(seismic_x, dtype=tf.float32)\n",
    "            seismic_y = tf.convert_to_tensor(seismic_y, dtype=tf.float32)\n",
    "\n",
    "            seismic_x = ((seismic_x+SHIFT_VALUE_X)/SCALE_VALUE_X)+CONST_GAMA\n",
    "            seismic_y = ((seismic_y+SHIFT_VALUE_Y)/SCALE_VALUE_Y)+CONST_GAMA\n",
    "\n",
    "            train_step(seismic_x, seismic_y)\n",
    "\n",
    "        #VALIDATION\n",
    "        if epoch%EVAL_STEP == 0:\n",
    "            clear_output()\n",
    "\n",
    "            print(\"VALIDATION EPOCH\", epoch)\n",
    "            #saving last epoch model\n",
    "            model.save_weights(utils.get_exp_folder_last_epoch(), save_format='tf')\n",
    "\n",
    "            #valid with set 1\n",
    "            print(\"Validation set\")\n",
    "            psnr_1, nrmse_1, mse_1 = valid_step(valid_x_1, valid_y_1, num_val_minibatches, mini_batch_size)\n",
    "\n",
    "            #valid with set 2\n",
    "            #print(\"Validation set 2\")\n",
    "            #psnr_2, nrmse_2, mse_2 = valid_step(valid_x_2, valid_y_2, num_val_minibatches, mini_batch_size)\n",
    "            psnr_2, nrmse_2, mse_2 = 0, 0, 0\n",
    "\n",
    "            #valid with set 3\n",
    "            #print(\"Validation set 3\")\n",
    "            #psnr_3, nrmse_3, mse_3 = valid_step(valid_x_3, valid_y_3, num_val_minibatches, mini_batch_size)\n",
    "            psnr_3, nrmse_3, mse_3 = 0, 0, 0\n",
    "\n",
    "            utils.update_chart_data(epoch=epoch, train_mse=train_loss.result().numpy(), \n",
    "                                    valid_mse=[mse_1,mse_2,mse_3], psnr=[psnr_1,psnr_2,psnr_3], nrmse=[nrmse_1,nrmse_2, nrmse_3])\n",
    "            utils.draw_chart()\n",
    "\n",
    "            #saving best validation model\n",
    "            if psnr_1 > BEST_VALIDATION:\n",
    "                BEST_VALIDATION = psnr_1\n",
    "                model.save_weights(utils.get_exp_folder_best_valid(), save_format='tf')\n",
    "\n",
    "        train_loss.reset_states()\n"
   ]
  },
  {
   "cell_type": "code",
   "execution_count": 13,
   "metadata": {},
   "outputs": [
    {
     "data": {
      "image/png": "[encoded data removed]",
      "text/plain": [
       "<Figure size 1080x1080 with 3 Axes>"
      ]
     },
     "metadata": {
      "needs_background": "light"
     },
     "output_type": "display_data"
    }
   ],
   "source": [
    "utils.draw_chart()"
   ]
  },
  {
   "cell_type": "code",
   "execution_count": 14,
   "metadata": {},
   "outputs": [
    {
     "name": "stdout",
     "output_type": "stream",
     "text": [
      "{'Best_Valid': 56.49253230241581, 'Best_Epoch': 95, 'PSNR_1': 56.49253230241581, 'PSNR_2': 0, 'PSNR_3': 0, 'NRMSE_1': 0.1444066716081111, 'NRMSE_2': 0, 'NRMSE_3': 0}\n"
     ]
    }
   ],
   "source": [
    "#experimentos results\n",
    "print(utils.get_experiment_results())"
   ]
  },
  {
   "cell_type": "code",
   "execution_count": 13,
   "metadata": {},
   "outputs": [
    {
     "name": "stderr",
     "output_type": "stream",
     "text": [
      "\r",
      "  0%|          | 0/200 [00:00<?, ?it/s]"
     ]
    },
    {
     "name": "stdout",
     "output_type": "stream",
     "text": [
      "Loaded (92800, 128, 128, 1) samples\n"
     ]
    },
    {
     "name": "stderr",
     "output_type": "stream",
     "text": [
      "100%|██████████| 200/200 [01:36<00:00,  2.07it/s]\n",
      "  0%|          | 0/200 [00:00<?, ?it/s]"
     ]
    },
    {
     "name": "stdout",
     "output_type": "stream",
     "text": [
      "Electronic \n",
      "PSNR: 54.35218247427565 \n",
      "NRMSE: 0.1470382535437906\n"
     ]
    },
    {
     "name": "stderr",
     "output_type": "stream",
     "text": [
      "100%|██████████| 200/200 [01:49<00:00,  1.82it/s]\n",
      "  0%|          | 0/200 [00:00<?, ?it/s]"
     ]
    },
    {
     "name": "stdout",
     "output_type": "stream",
     "text": [
      "Experimental \n",
      "PSNR: 58.07373018391753 \n",
      "NRMSE: 0.15001055617426357\n"
     ]
    },
    {
     "name": "stderr",
     "output_type": "stream",
     "text": [
      "100%|██████████| 200/200 [01:50<00:00,  1.81it/s]\n",
      "  0%|          | 0/200 [00:00<?, ?it/s]"
     ]
    },
    {
     "name": "stdout",
     "output_type": "stream",
     "text": [
      "Rock \n",
      "PSNR: 53.175374834744105 \n",
      "NRMSE: 0.16342392856422092\n"
     ]
    },
    {
     "name": "stderr",
     "output_type": "stream",
     "text": [
      "100%|██████████| 200/200 [01:49<00:00,  1.83it/s]\n",
      "  0%|          | 0/200 [00:00<?, ?it/s]"
     ]
    },
    {
     "name": "stdout",
     "output_type": "stream",
     "text": [
      "Hip-Hop \n",
      "PSNR: 53.5600869548315 \n",
      "NRMSE: 0.14779892915325413\n"
     ]
    },
    {
     "name": "stderr",
     "output_type": "stream",
     "text": [
      "100%|██████████| 200/200 [01:51<00:00,  1.79it/s]\n",
      "  0%|          | 0/200 [00:00<?, ?it/s]"
     ]
    },
    {
     "name": "stdout",
     "output_type": "stream",
     "text": [
      "Folk \n",
      "PSNR: 58.976262519932796 \n",
      "NRMSE: 0.12954628887061487\n"
     ]
    },
    {
     "name": "stderr",
     "output_type": "stream",
     "text": [
      "100%|██████████| 200/200 [01:48<00:00,  1.84it/s]\n",
      "  0%|          | 0/200 [00:00<?, ?it/s]"
     ]
    },
    {
     "name": "stdout",
     "output_type": "stream",
     "text": [
      "Instrumental \n",
      "PSNR: 59.883602415567445 \n",
      "NRMSE: 0.13556844448323555\n"
     ]
    },
    {
     "name": "stderr",
     "output_type": "stream",
     "text": [
      "100%|██████████| 200/200 [01:50<00:00,  1.81it/s]\n",
      "  0%|          | 0/200 [00:00<?, ?it/s]"
     ]
    },
    {
     "name": "stdout",
     "output_type": "stream",
     "text": [
      "Pop \n",
      "PSNR: 55.58052412365801 \n",
      "NRMSE: 0.14797630641738266\n"
     ]
    },
    {
     "name": "stderr",
     "output_type": "stream",
     "text": [
      "100%|██████████| 200/200 [01:54<00:00,  1.75it/s]"
     ]
    },
    {
     "name": "stdout",
     "output_type": "stream",
     "text": [
      "International \n",
      "PSNR: 58.33849506881076 \n",
      "NRMSE: 0.13389066238171043\n"
     ]
    },
    {
     "name": "stderr",
     "output_type": "stream",
     "text": [
      "\n"
     ]
    }
   ],
   "source": [
    "with tf.device(GPU):\n",
    "    #load best model\n",
    "    model.load_weights(utils.get_exp_folder_best_valid())\n",
    "    CONST_GAMA = 0.001\n",
    "\n",
    "    # valid_x_1 = np.load(\"/mnt/backup/arthur/Free_Music_Archive/Spectrogramas/X_val.npy\", mmap_mode='c') \n",
    "    # valid_y_1 = np.load(\"/mnt/backup/arthur/Free_Music_Archive/Spectrogramas/y_val.npy\", mmap_mode='c')\n",
    "\n",
    "    qtd_traning = valid_x_1.shape\n",
    "    print(\"Loaded\",qtd_traning, \"samples\")\n",
    "\n",
    "    # #normalization\n",
    "    # test_x = utils.shift_and_normalize(test_x, SHIFT_VALUE_X, SCALE_VALUE_X)\n",
    "    # test_y = utils.shift_and_normalize(test_y, SHIFT_VALUE_Y, SCALE_VALUE_Y) \n",
    "\n",
    "    #batches\n",
    "    num_val_minibatches = math.floor(valid_x_1.shape[0]/mini_batch_size)\n",
    "    # test_batches = utils.random_mini_batches(test_x, test_y, None, None, 8, seed=0)\n",
    "\n",
    "    #metrics\n",
    "    val_mse = tf.keras.metrics.MeanSquaredError(name='val_mse')\n",
    "    val_custom_metrics = utils.CustomMetric()\n",
    "\n",
    "    f = open('/home/arthursrr/Documentos/Audio_Inpainting/Datasets/idx_genders_val.json', \"r\") \n",
    "    idx_gen = json.loads(f.read()) \n",
    "\n",
    "    for k in idx_gen:\n",
    "        for i in tqdm(idx_gen[k]):\n",
    "            data_x = valid_x_1[i * mini_batch_size : i * mini_batch_size + mini_batch_size]\n",
    "            data_y = valid_y_1[i * mini_batch_size : i * mini_batch_size + mini_batch_size]\n",
    "\n",
    "            data_x = tf.convert_to_tensor(data_x, dtype=tf.float32)\n",
    "            data_y = tf.convert_to_tensor(data_y, dtype=tf.float32)\n",
    "\n",
    "            data_x = ((data_x+SHIFT_VALUE_X)/SCALE_VALUE_X)+CONST_GAMA\n",
    "            data_y = ((data_y+SHIFT_VALUE_Y)/SCALE_VALUE_Y)+CONST_GAMA\n",
    "\n",
    "            predictions = model(data_x)[1]\n",
    "            val_mse(data_y, predictions)\n",
    "\n",
    "            predictions = predictions.numpy()\n",
    "            data_y = data_y.numpy()\n",
    "\n",
    "            #feed the metric evaluator\n",
    "            val_custom_metrics.feed(data_y, predictions)\n",
    "\n",
    "        #get metric results\n",
    "        psnr, nrmse = val_custom_metrics.result()\n",
    "        val_mse_result = val_mse.result().numpy()\n",
    "        val_custom_metrics.reset_states()\n",
    "        val_mse.reset_states()\n",
    "\n",
    "        print(k ,\"\\nPSNR:\", psnr,\"\\nNRMSE:\", nrmse)\n",
    "\n",
    "    # Closing file \n",
    "    f.close() "
   ]
  },
  {
   "cell_type": "markdown",
   "metadata": {},
   "source": [
    "## Test"
   ]
  },
  {
   "cell_type": "code",
   "execution_count": null,
   "metadata": {},
   "outputs": [],
   "source": [
    "#load best model\n",
    "model.load_weights(utils.get_exp_folder_best_valid())\n",
    "CONST_GAMA = 0.001\n",
    "test_x = np.load(\"/mnt/backup/arthur/Free_Music_Archive/Spectrogramas/Normalized/X_test.npy\", mmap_mode='c') \n",
    "test_y = np.load(\"/mnt/backup/arthur/Free_Music_Archive/Spectrogramas/Normalized/y_test.npy\", mmap_mode='c')\n",
    "\n",
    "qtd_traning = test_x.shape\n",
    "print(\"Loaded\",qtd_traning, \"samples\")\n",
    "\n",
    "# #normalization\n",
    "# test_x = utils.shift_and_normalize(test_x, SHIFT_VALUE_X, SCALE_VALUE_X)\n",
    "# test_y = utils.shift_and_normalize(test_y, SHIFT_VALUE_Y, SCALE_VALUE_Y) \n",
    "\n",
    "#batches\n",
    "num_test_minibatches = math.floor(test_x.shape[0]/mini_batch_size)\n",
    "# test_batches = utils.random_mini_batches(test_x, test_y, None, None, 8, seed=0)\n",
    "\n",
    "#metrics\n",
    "test_mse = tf.keras.metrics.MeanSquaredError(name='test_mse')\n",
    "test_custom_metrics = utils.CustomMetric()\n",
    "\n",
    "f = open('/home/arthursrr/Documentos/Audio_Inpainting/Datasets/idx_genders_test.json', \"r\") \n",
    "idx_gen = json.loads(f.read()) \n",
    "flag = True\n",
    "data_spec = None\n",
    "data_np = None\n",
    "for i in tqdm(range(num_test_minibatches)):\n",
    "    data_x = test_x[i * mini_batch_size : i * mini_batch_size + mini_batch_size]\n",
    "    data_y = test_y[i * mini_batch_size : i * mini_batch_size + mini_batch_size]\n",
    "\n",
    "    data_x = tf.convert_to_tensor(data_x, dtype=tf.float32)\n",
    "    data_y = tf.convert_to_tensor(data_y, dtype=tf.float32)\n",
    "\n",
    "    predictions = model(data_x)[1]\n",
    "    if type(data_spec).__name__ == 'NoneType':\n",
    "        data_spec = predictions\n",
    "    else:\n",
    "        data_spec = tf.concat([data_spec, predictions], axis=0)\n",
    "\n",
    "    if data_spec.shape[0]%29000 == 0:\n",
    "        if flag == True:\n",
    "            data_np = data_spec.numpy()              \n",
    "            flag = False\n",
    "        else:\n",
    "            data_np = np.concatenate((data_np, data_spec.numpy()), axis=0)\n",
    "        del data_spec\n",
    "        data_spec = None\n",
    "if type(data_spec).__name__ != 'NoneType':\n",
    "    data_np = np.concatenate((data_np, data_spec.numpy()), axis=0)\n",
    "del data_spec\n",
    "\n",
    "# Closing file \n",
    "f.close() "
   ]
  },
  {
   "cell_type": "code",
   "execution_count": null,
   "metadata": {},
   "outputs": [],
   "source": [
    "np.save(\"/mnt/backup/arthur/Free_Music_Archive/Spectrogramas/Normalized/X_test_predicted.npy\", data_np)"
   ]
  },
  {
   "cell_type": "code",
   "execution_count": 17,
   "metadata": {
    "scrolled": false
   },
   "outputs": [
    {
     "name": "stderr",
     "output_type": "stream",
     "text": [
      "\r",
      "  0%|          | 0/638 [00:00<?, ?it/s]"
     ]
    },
    {
     "name": "stdout",
     "output_type": "stream",
     "text": [
      "Loaded (323988, 128, 128, 1) samples\n"
     ]
    },
    {
     "name": "stderr",
     "output_type": "stream",
     "text": [
      "100%|██████████| 638/638 [06:59<00:00,  1.52it/s]\n",
      "  0%|          | 0/625 [00:00<?, ?it/s]"
     ]
    },
    {
     "name": "stdout",
     "output_type": "stream",
     "text": [
      "Electronic \n",
      "PSNR: 54.458846683323955 \n",
      "NRMSE: 0.14980355598554113\n"
     ]
    },
    {
     "name": "stderr",
     "output_type": "stream",
     "text": [
      "100%|██████████| 625/625 [06:44<00:00,  1.54it/s]\n",
      "  0%|          | 0/609 [00:00<?, ?it/s]"
     ]
    },
    {
     "name": "stdout",
     "output_type": "stream",
     "text": [
      "Experimental \n",
      "PSNR: 58.52761274805955 \n",
      "NRMSE: 0.15031420253988295\n"
     ]
    },
    {
     "name": "stderr",
     "output_type": "stream",
     "text": [
      "100%|██████████| 609/609 [06:30<00:00,  1.56it/s]\n",
      "  0%|          | 0/585 [00:00<?, ?it/s]"
     ]
    },
    {
     "name": "stdout",
     "output_type": "stream",
     "text": [
      "Rock \n",
      "PSNR: 53.61965309576773 \n",
      "NRMSE: 0.16444966542341066\n"
     ]
    },
    {
     "name": "stderr",
     "output_type": "stream",
     "text": [
      "100%|██████████| 585/585 [06:18<00:00,  1.55it/s]\n",
      "  0%|          | 0/518 [00:00<?, ?it/s]"
     ]
    },
    {
     "name": "stdout",
     "output_type": "stream",
     "text": [
      "Hip-Hop \n",
      "PSNR: 53.88727383410751 \n",
      "NRMSE: 0.14791285193734885\n"
     ]
    },
    {
     "name": "stderr",
     "output_type": "stream",
     "text": [
      "100%|██████████| 518/518 [05:31<00:00,  1.56it/s]\n",
      "  0%|          | 0/349 [00:00<?, ?it/s]"
     ]
    },
    {
     "name": "stdout",
     "output_type": "stream",
     "text": [
      "Folk \n",
      "PSNR: 59.57490197997562 \n",
      "NRMSE: 0.12873814767517283\n"
     ]
    },
    {
     "name": "stderr",
     "output_type": "stream",
     "text": [
      "100%|██████████| 349/349 [03:42<00:00,  1.57it/s]\n",
      "  0%|          | 0/186 [00:00<?, ?it/s]"
     ]
    },
    {
     "name": "stdout",
     "output_type": "stream",
     "text": [
      "Instrumental \n",
      "PSNR: 58.78265413806257 \n",
      "NRMSE: 0.141278927552687\n"
     ]
    },
    {
     "name": "stderr",
     "output_type": "stream",
     "text": [
      "100%|██████████| 186/186 [01:59<00:00,  1.56it/s]\n",
      "  0%|          | 0/18 [00:00<?, ?it/s]"
     ]
    },
    {
     "name": "stdout",
     "output_type": "stream",
     "text": [
      "Pop \n",
      "PSNR: 56.06343659402802 \n",
      "NRMSE: 0.14952060789448457\n"
     ]
    },
    {
     "name": "stderr",
     "output_type": "stream",
     "text": [
      "100%|██████████| 18/18 [00:11<00:00,  1.59it/s]\n",
      "  0%|          | 0/619 [00:00<?, ?it/s]"
     ]
    },
    {
     "name": "stdout",
     "output_type": "stream",
     "text": [
      "International \n",
      "PSNR: 62.146258616231506 \n",
      "NRMSE: 0.12180652838343353\n"
     ]
    },
    {
     "name": "stderr",
     "output_type": "stream",
     "text": [
      "100%|██████████| 619/619 [06:42<00:00,  1.54it/s]\n",
      "  0%|          | 0/510 [00:00<?, ?it/s]"
     ]
    },
    {
     "name": "stdout",
     "output_type": "stream",
     "text": [
      "Classical \n",
      "PSNR: 68.85268556045715 \n",
      "NRMSE: 0.10869141761530593\n"
     ]
    },
    {
     "name": "stderr",
     "output_type": "stream",
     "text": [
      "100%|██████████| 510/510 [05:45<00:00,  1.48it/s]\n",
      "  0%|          | 0/384 [00:00<?, ?it/s]"
     ]
    },
    {
     "name": "stdout",
     "output_type": "stream",
     "text": [
      "Old-Time / Historic \n",
      "PSNR: 64.32006379951697 \n",
      "NRMSE: 0.1130560404860163\n"
     ]
    },
    {
     "name": "stderr",
     "output_type": "stream",
     "text": [
      "100%|██████████| 384/384 [04:58<00:00,  1.29it/s]\n",
      "  0%|          | 0/178 [00:00<?, ?it/s]"
     ]
    },
    {
     "name": "stdout",
     "output_type": "stream",
     "text": [
      "Jazz \n",
      "PSNR: 60.52044127712704 \n",
      "NRMSE: 0.13079328562712134\n"
     ]
    },
    {
     "name": "stderr",
     "output_type": "stream",
     "text": [
      "100%|██████████| 178/178 [02:43<00:00,  1.09it/s]\n",
      "  0%|          | 0/154 [00:00<?, ?it/s]"
     ]
    },
    {
     "name": "stdout",
     "output_type": "stream",
     "text": [
      "Country \n",
      "PSNR: 55.644240210292764 \n",
      "NRMSE: 0.14815669093410852\n"
     ]
    },
    {
     "name": "stderr",
     "output_type": "stream",
     "text": [
      "100%|██████████| 154/154 [02:11<00:00,  1.17it/s]\n",
      "  0%|          | 0/118 [00:00<?, ?it/s]"
     ]
    },
    {
     "name": "stdout",
     "output_type": "stream",
     "text": [
      "Soul-RnB \n",
      "PSNR: 53.51317241437957 \n",
      "NRMSE: 0.15430325394992386\n"
     ]
    },
    {
     "name": "stderr",
     "output_type": "stream",
     "text": [
      "100%|██████████| 118/118 [01:20<00:00,  1.46it/s]\n",
      "  0%|          | 0/74 [00:00<?, ?it/s]"
     ]
    },
    {
     "name": "stdout",
     "output_type": "stream",
     "text": [
      "Spoken \n",
      "PSNR: 65.30299487425161 \n",
      "NRMSE: 0.12064102234915353\n"
     ]
    },
    {
     "name": "stderr",
     "output_type": "stream",
     "text": [
      "100%|██████████| 74/74 [00:49<00:00,  1.50it/s]\n",
      "  0%|          | 0/21 [00:00<?, ?it/s]"
     ]
    },
    {
     "name": "stdout",
     "output_type": "stream",
     "text": [
      "Blues \n",
      "PSNR: 58.380448174459204 \n",
      "NRMSE: 0.1382971295866144\n"
     ]
    },
    {
     "name": "stderr",
     "output_type": "stream",
     "text": [
      "100%|██████████| 21/21 [00:14<00:00,  1.43it/s]"
     ]
    },
    {
     "name": "stdout",
     "output_type": "stream",
     "text": [
      "Easy Listening \n",
      "PSNR: 57.60617376568058 \n",
      "NRMSE: 0.1373285948707011\n"
     ]
    },
    {
     "name": "stderr",
     "output_type": "stream",
     "text": [
      "\n"
     ]
    }
   ],
   "source": [
    "with tf.device(GPU):\n",
    "    #load best model\n",
    "    model.load_weights(utils.get_exp_folder_best_valid())\n",
    "    CONST_GAMA = 0.001\n",
    "    test_x = np.load(\"/mnt/backup/arthur/Free_Music_Archive/Spectrogramas/X_test.npy\", mmap_mode='c') \n",
    "    test_y = np.load(\"/mnt/backup/arthur/Free_Music_Archive/Spectrogramas/y_test.npy\", mmap_mode='c')\n",
    "\n",
    "    qtd_traning = test_x.shape\n",
    "    print(\"Loaded\",qtd_traning, \"samples\")\n",
    "\n",
    "    # #normalization\n",
    "    # test_x = utils.shift_and_normalize(test_x, SHIFT_VALUE_X, SCALE_VALUE_X)\n",
    "    # test_y = utils.shift_and_normalize(test_y, SHIFT_VALUE_Y, SCALE_VALUE_Y) \n",
    "\n",
    "    #batches\n",
    "    num_test_minibatches = math.floor(test_x.shape[0]/mini_batch_size)\n",
    "    # test_batches = utils.random_mini_batches(test_x, test_y, None, None, 8, seed=0)\n",
    "\n",
    "    #metrics\n",
    "    test_mse = tf.keras.metrics.MeanSquaredError(name='test_mse')\n",
    "    test_custom_metrics = utils.CustomMetric()\n",
    "\n",
    "    f = open('/home/arthursrr/Documentos/Audio_Inpainting/Datasets/idx_genders_test.json', \"r\") \n",
    "    idx_gen = json.loads(f.read()) \n",
    "\n",
    "    for k in idx_gen:\n",
    "    #     if k == \"Experimental\" or k == \"Hip-Hop\" or k == \"Jazz\":\n",
    "        for i in tqdm(idx_gen[k]):\n",
    "            data_x = test_x[i * mini_batch_size : i * mini_batch_size + mini_batch_size]\n",
    "            data_y = test_y[i * mini_batch_size : i * mini_batch_size + mini_batch_size]\n",
    "\n",
    "            data_x = tf.convert_to_tensor(data_x, dtype=tf.float32)\n",
    "            data_y = tf.convert_to_tensor(data_y, dtype=tf.float32)\n",
    "\n",
    "            data_x = ((data_x+SHIFT_VALUE_X)/SCALE_VALUE_X)+CONST_GAMA\n",
    "            data_y = ((data_y+SHIFT_VALUE_Y)/SCALE_VALUE_Y)+CONST_GAMA\n",
    "\n",
    "            predictions = model(data_x)[1]\n",
    "            test_mse(data_y, predictions)\n",
    "\n",
    "            predictions = predictions.numpy()\n",
    "            data_y = data_y.numpy()\n",
    "\n",
    "            #feed the metric evaluator\n",
    "            test_custom_metrics.feed(data_y, predictions)\n",
    "\n",
    "\n",
    "        #get metric results\n",
    "        psnr, nrmse = test_custom_metrics.result()\n",
    "        test_mse_result = test_mse.result().numpy()\n",
    "        test_custom_metrics.reset_states()\n",
    "        test_mse.reset_states()\n",
    "\n",
    "        print(k ,\"\\nPSNR:\", psnr,\"\\nNRMSE:\", nrmse)\n",
    "\n",
    "    # Closing file \n",
    "    f.close() "
   ]
  },
  {
   "cell_type": "code",
   "execution_count": 21,
   "metadata": {},
   "outputs": [],
   "source": [
    "def griffin_lim(S, frame_length=256, fft_length=255, stride=64):\n",
    "    '''\n",
    "    TensorFlow implementation of Griffin-Lim\n",
    "    Based on https://github.com/Kyubyong/tensorflow-exercises/blob/master/Audio_Processing.ipynb\n",
    "    '''\n",
    "    S = tf.expand_dims(S, 0)\n",
    "    S_complex = tf.identity(tf.cast(S, dtype=tf.complex64))\n",
    "    y = tf.signal.inverse_stft(S_complex, frame_length, stride, fft_length=fft_length)\n",
    "    for i in range(100):\n",
    "        est = tf.signal.stft(y, frame_length, stride, fft_length=fft_length)\n",
    "        angles = est / tf.cast(tf.maximum(1e-16, tf.abs(est)), tf.complex64)\n",
    "        y = tf.signal.inverse_stft(S_complex * angles, frame_length, stride, fft_length=fft_length)\n",
    "    return tf.squeeze(y, 0)"
   ]
  },
  {
   "cell_type": "code",
   "execution_count": null,
   "metadata": {},
   "outputs": [
    {
     "name": "stderr",
     "output_type": "stream",
     "text": [
      "\r",
      "  0%|          | 0/638 [00:00<?, ?it/s]"
     ]
    },
    {
     "name": "stdout",
     "output_type": "stream",
     "text": [
      "Loaded (323988, 128, 128, 1) samples\n"
     ]
    },
    {
     "name": "stderr",
     "output_type": "stream",
     "text": [
      "100%|██████████| 638/638 [42:11<00:00,  3.97s/it]\n",
      " 43%|████▎     | 269/625 [17:52<24:03,  4.05s/it]"
     ]
    }
   ],
   "source": [
    "with tf.device(GPU):\n",
    "    model.load_weights(utils.get_exp_folder_best_valid())\n",
    "\n",
    "    test_x = np.load(\"/mnt/backup/arthur/Free_Music_Archive/Spectrogramas/X_test.npy\", mmap_mode='c') \n",
    "    test_y = np.load(\"/mnt/backup/arthur/Free_Music_Archive/Spectrogramas/y_test.npy\", mmap_mode='c')\n",
    "\n",
    "    qtd_traning = test_x.shape\n",
    "    print(\"Loaded\",qtd_traning, \"samples\")\n",
    "\n",
    "    #batches\n",
    "    num_test_minibatches = math.floor(test_x.shape[0]/mini_batch_size)\n",
    "\n",
    "    #metrics\n",
    "    test_mse = tf.keras.metrics.MeanSquaredError(name='test_mse')\n",
    "    test_custom_metrics = utils.CustomMetric()\n",
    "\n",
    "    CONST_GAMA = 0.001\n",
    "\n",
    "    f = open('/home/arthursrr/Documentos/Audio_Inpainting/Datasets/idx_genders_test.json', \"r\") \n",
    "    idx_gen = json.loads(f.read()) \n",
    "\n",
    "    wave_original = None\n",
    "    wave_corte = None\n",
    "    wave_pred = None\n",
    "\n",
    "    for k in idx_gen:\n",
    "        path_gen = \"/mnt/backup/arthur/Free_Music_Archive/Teste_Dual/\"+k\n",
    "        if not os.path.exists(path_gen):\n",
    "                os.makedirs(path_gen)\n",
    "                os.makedirs(path_gen+\"/original\")\n",
    "                os.makedirs(path_gen+\"/cortado\")\n",
    "                os.makedirs(path_gen+\"/predito\")\n",
    "        for i in tqdm(idx_gen[k]):\n",
    "            data_x = test_x[i * mini_batch_size : i * mini_batch_size + mini_batch_size]\n",
    "            data_y = test_y[i * mini_batch_size : i * mini_batch_size + mini_batch_size]\n",
    "\n",
    "            data_norm = ((tf.convert_to_tensor(data_x, dtype=tf.float32)+SHIFT_VALUE_X)/SCALE_VALUE_X)+CONST_GAMA\n",
    "\n",
    "            predictions = model(data_norm)[1]\n",
    "\n",
    "            predictions = (((predictions-CONST_GAMA)*SCALE_VALUE_X)-SHIFT_VALUE_X).numpy()\n",
    "\n",
    "            #predictions = utils.inv_shift_and_normalize(predictions, SHIFT_VALUE_Y, SCALE_VALUE_Y)   \n",
    "\n",
    "            audio_original = None\n",
    "            audio_corte = None\n",
    "            audio_pred = None\n",
    "\n",
    "            for j in range(mini_batch_size):\n",
    "                if j==0:\n",
    "                    audio_original = data_y[j,:,:,0]\n",
    "                    audio_corte = data_x[j,:,:,0]\n",
    "                    audio_pred = predictions[j,:,:,0]\n",
    "                else:\n",
    "                    audio_original = np.concatenate((audio_original, data_y[j,:,:,0]), axis=0)\n",
    "                    audio_corte = np.concatenate((audio_corte, data_x[j,:,:,0]), axis=0)\n",
    "                    audio_pred = np.concatenate((audio_pred, predictions[j,:,:,0]), axis=0)\n",
    "\n",
    "            wave_original = griffin_lim(audio_original, frame_length=256, fft_length=255, stride=64)\n",
    "            wave_corte = griffin_lim(audio_corte, frame_length=256, fft_length=255, stride=64)\n",
    "            wave_pred = griffin_lim(audio_pred, frame_length=256, fft_length=255, stride=64)\n",
    "\n",
    "            sf.write(path_gen+\"/original/\"+str(i)+\".wav\", wave_original, 16000, subtype='PCM_16')\n",
    "            sf.write(path_gen+\"/cortado/\"+str(i)+\".wav\", wave_corte, 16000, subtype='PCM_16')\n",
    "            sf.write(path_gen+\"/predito/\"+str(i)+\".wav\", wave_pred, 16000, subtype='PCM_16')"
   ]
  },
  {
   "cell_type": "code",
   "execution_count": null,
   "metadata": {},
   "outputs": [],
   "source": [
    "audio_pred = None\n",
    "for i in range(0, 58):\n",
    "    if i==0:\n",
    "        audio_pred = predictions[i,:,:,0]\n",
    "    else:\n",
    "        audio_pred = np.concatenate((audio_pred, predictions[i,:,:,0]), axis=0)\n",
    "audio_pred.shape"
   ]
  },
  {
   "cell_type": "code",
   "execution_count": null,
   "metadata": {},
   "outputs": [],
   "source": [
    "audio_corte = None\n",
    "for i in range(0, 58):\n",
    "    if i==0:\n",
    "        audio_corte = data_x[i,:,:,0]\n",
    "    else:\n",
    "        audio_corte = np.concatenate((audio_corte, data_x[i,:,:,0]), axis=0)\n",
    "audio_corte.shape"
   ]
  },
  {
   "cell_type": "code",
   "execution_count": null,
   "metadata": {},
   "outputs": [],
   "source": [
    "audio_original = None\n",
    "for i in range(0, 58):\n",
    "    if i==0:\n",
    "        audio_original = data_y[i,:,:,0]\n",
    "    else:\n",
    "        audio_original = np.concatenate((audio_original, data_y[i,:,:,0]), axis=0)\n",
    "audio_original.shape"
   ]
  },
  {
   "cell_type": "code",
   "execution_count": null,
   "metadata": {},
   "outputs": [],
   "source": [
    "wave_original = griffin_lim(audio_original, frame_length=256, fft_length=255, stride=64)\n",
    "ipd.Audio(wave_original, rate=16000)"
   ]
  },
  {
   "cell_type": "code",
   "execution_count": null,
   "metadata": {},
   "outputs": [],
   "source": [
    "wave_corte = griffin_lim(audio_corte, frame_length=256, fft_length=255, stride=64)\n",
    "ipd.Audio(wave_corte, rate=16000)"
   ]
  },
  {
   "cell_type": "code",
   "execution_count": null,
   "metadata": {},
   "outputs": [],
   "source": [
    "wave_pred = griffin_lim(audio_pred, frame_length=256, fft_length=255, stride=64)\n",
    "ipd.Audio(wave_pred, rate=16000)"
   ]
  },
  {
   "cell_type": "code",
   "execution_count": null,
   "metadata": {},
   "outputs": [],
   "source": [
    "# import soundfile as sf\n",
    "# sf.write('x.wav', wave_corte, 16000, subtype='PCM_16')\n",
    "# sf.write('pred.wav', wave_pred, 16000, subtype='PCM_16')"
   ]
  },
  {
   "cell_type": "code",
   "execution_count": null,
   "metadata": {},
   "outputs": [],
   "source": []
  }
 ],
 "metadata": {
  "kernelspec": {
   "display_name": "Python 3",
   "language": "python",
   "name": "python3"
  },
  "language_info": {
   "codemirror_mode": {
    "name": "ipython",
    "version": 3
   },
   "file_extension": ".py",
   "mimetype": "text/x-python",
   "name": "python",
   "nbconvert_exporter": "python",
   "pygments_lexer": "ipython3",
   "version": "3.6.9"
  }
 },
 "nbformat": 4,
 "nbformat_minor": 2
}
